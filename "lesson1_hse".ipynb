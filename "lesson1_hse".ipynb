{
  "nbformat": 4,
  "nbformat_minor": 0,
  "metadata": {
    "colab": {
      "provenance": [],
      "include_colab_link": true
    },
    "kernelspec": {
      "name": "python3",
      "display_name": "Python 3"
    },
    "language_info": {
      "name": "python"
    }
  },
  "cells": [
    {
      "cell_type": "markdown",
      "metadata": {
        "id": "view-in-github",
        "colab_type": "text"
      },
      "source": [
        "<a href=\"https://colab.research.google.com/github/R0Master/Basic_Calculator/blob/main/%22lesson1_hse%22.ipynb\" target=\"_parent\"><img src=\"https://colab.research.google.com/assets/colab-badge.svg\" alt=\"Open In Colab\"/></a>"
      ]
    },
    {
      "cell_type": "code",
      "execution_count": null,
      "metadata": {
        "id": "WuP8IvwZVljX",
        "outputId": "a158aa6f-2efe-49d0-e771-8bd27a3377d0",
        "colab": {
          "base_uri": "https://localhost:8080/"
        }
      },
      "outputs": [
        {
          "output_type": "stream",
          "name": "stdout",
          "text": [
            "Hello world\n"
          ]
        }
      ],
      "source": [
        "print(\"Hello world\")"
      ]
    },
    {
      "cell_type": "markdown",
      "source": [
        "Вывод чисел и результатов вычислений"
      ],
      "metadata": {
        "id": "5NagzXKPmQIi"
      }
    },
    {
      "cell_type": "code",
      "source": [
        "print(10 + 5)\n",
        "print(3.14 * 2)\n"
      ],
      "metadata": {
        "id": "om97Q9ZomMkZ"
      },
      "execution_count": null,
      "outputs": []
    },
    {
      "cell_type": "markdown",
      "source": [
        "Вывод нескольких значений через запятую\n",
        "\n"
      ],
      "metadata": {
        "id": "KiHohDQbmX35"
      }
    },
    {
      "cell_type": "code",
      "source": [
        "name = \"Анна\"\n",
        "age = 16\n",
        "print(\"Имя:\", name, \"Возраст:\", age)\n"
      ],
      "metadata": {
        "id": "iSmn6gbwmcBO"
      },
      "execution_count": null,
      "outputs": []
    },
    {
      "cell_type": "markdown",
      "source": [
        "Использование f-строк (форматированные строки)"
      ],
      "metadata": {
        "id": "RDJ5z7GEmfuA"
      }
    },
    {
      "cell_type": "code",
      "source": [
        "print(f\"Меня зовут {name} и мне {age} лет\")"
      ],
      "metadata": {
        "id": "DayblrbdmjCV"
      },
      "execution_count": null,
      "outputs": []
    },
    {
      "cell_type": "markdown",
      "source": [
        "Переход на новую строку"
      ],
      "metadata": {
        "id": "H1T779cYtLrm"
      }
    },
    {
      "cell_type": "code",
      "source": [
        "print(\"Первая строкаВторая строка\\ngflhjlfktjh\")"
      ],
      "metadata": {
        "id": "ktJjM1INtNpG"
      },
      "execution_count": null,
      "outputs": []
    },
    {
      "cell_type": "markdown",
      "source": [
        " sep задает разделитель"
      ],
      "metadata": {
        "id": "3r_IBbPEmmv7"
      }
    },
    {
      "cell_type": "code",
      "source": [
        "print(\"Яблоки\", \"Груши\", \"Сливы\", sep=\", \")"
      ],
      "metadata": {
        "colab": {
          "base_uri": "https://localhost:8080/"
        },
        "id": "RplAVrawmxkd",
        "outputId": "465ffba9-72bc-4470-9453-bcf901e2ed6d"
      },
      "execution_count": null,
      "outputs": [
        {
          "output_type": "stream",
          "name": "stdout",
          "text": [
            "Яблоки, Груши, Сливы\n"
          ]
        }
      ]
    },
    {
      "cell_type": "markdown",
      "source": [
        "Простой ввод"
      ],
      "metadata": {
        "id": "vexNznDBm0li"
      }
    },
    {
      "cell_type": "code",
      "source": [
        "name = input()  # Программа ждет, пока пользователь что-то введет\n",
        "print(\"Вы ввели:\", name)\n"
      ],
      "metadata": {
        "id": "wSWjn5XWm44b"
      },
      "execution_count": null,
      "outputs": []
    },
    {
      "cell_type": "markdown",
      "source": [
        "Ввод с подсказкой для пользователя"
      ],
      "metadata": {
        "id": "ReE-MHkenFje"
      }
    },
    {
      "cell_type": "code",
      "source": [
        "name = input(\"Как вас зовут? \")  # Текст в скобках покажется пользователю\n",
        "print(f\"Привет, {name}!\")\n"
      ],
      "metadata": {
        "id": "UZyQMKrWnJm5"
      },
      "execution_count": null,
      "outputs": []
    },
    {
      "cell_type": "markdown",
      "source": [
        "Ввод целого числа"
      ],
      "metadata": {
        "id": "nhh67-XnnM-Z"
      }
    },
    {
      "cell_type": "code",
      "source": [
        "age = int(input())\n",
        "print(age+age)\n",
        "print(f\"Ваш возраст - {age}\")"
      ],
      "metadata": {
        "id": "pCkNL_BPnfLB"
      },
      "execution_count": null,
      "outputs": []
    },
    {
      "cell_type": "markdown",
      "source": [
        "Операции с числами"
      ],
      "metadata": {
        "id": "uLYovRWgnz-z"
      }
    },
    {
      "cell_type": "code",
      "source": [
        "a = 10\n",
        "b = 3\n",
        "print(a + b)  # Сложение\n",
        "print(a - b)  # Вычитание\n",
        "print(a * b)  # Умножение\n",
        "print(a / b)  # Деление (всегда возвращает float)\n",
        "print(a // b) # Целочисленное деление (отбрасывает дробную часть)\n",
        "print(a % b)  # Остаток от деления\n",
        "print(a ** b) # Возведение в степень\n"
      ],
      "metadata": {
        "id": "Xpu5x8_-oMBY"
      },
      "execution_count": null,
      "outputs": []
    },
    {
      "cell_type": "markdown",
      "source": [
        "Операции со строками"
      ],
      "metadata": {
        "id": "tgyaW2i0oOyV"
      }
    },
    {
      "cell_type": "code",
      "source": [
        "greeting = \"Привет, \"\n",
        "person = \"Максим\"\n",
        "full_greeting = greeting + person  # Конкатенация (склеивание строк)\n",
        "print(full_greeting)\n"
      ],
      "metadata": {
        "id": "1N6GKiX5oRa4"
      },
      "execution_count": null,
      "outputs": []
    },
    {
      "cell_type": "code",
      "source": [
        "lots_of_hello = \"Hello! \" * 5\n",
        "print(lots_of_hello)\n"
      ],
      "metadata": {
        "id": "mmD1Urg_oUVo"
      },
      "execution_count": null,
      "outputs": []
    },
    {
      "cell_type": "markdown",
      "source": [
        "Преобразование типов"
      ],
      "metadata": {
        "id": "T9KwKwW1oXCR"
      }
    },
    {
      "cell_type": "code",
      "source": [
        "number_text = \"123\"\n",
        "real_number = int(number_text)  # Преобразуем строку в целое число\n",
        "new_number = real_number + 7\n",
        "print(new_number)\n",
        "\n",
        "my_age = 16\n",
        "age_text = \"Мне \" + str(my_age) + \" лет.\"  # Число преобразуется в строку\n",
        "print(age_text)\n"
      ],
      "metadata": {
        "id": "y3aX-VGJoaDg"
      },
      "execution_count": null,
      "outputs": []
    },
    {
      "cell_type": "markdown",
      "source": [
        "Узнаем тип данных переменной с помощью функции type()"
      ],
      "metadata": {
        "id": "fhoDr1aEocon"
      }
    },
    {
      "cell_type": "code",
      "source": [
        "price = 3.46\n",
        "is_student = True\n",
        "print(type(price))     # Выведет: <class 'float'>\n",
        "print(type(is_student)) # Выведет: <class 'bool'>\n"
      ],
      "metadata": {
        "id": "DIIy6ORIoe5M"
      },
      "execution_count": null,
      "outputs": []
    },
    {
      "cell_type": "markdown",
      "source": [
        "Список (list)"
      ],
      "metadata": {
        "id": "4210VdHLohGK"
      }
    },
    {
      "cell_type": "code",
      "source": [
        "fruits = [\"яблоко\", \"банан\", \"апельсин\", \"киви\"]\n",
        "print(fruits)\n",
        "print(fruits[0])     # Обращение к первому элементу (индексы с 0!)\n",
        "print(fruits[-1])    # Обращение к последнему элементу\n",
        "\n",
        "fruits[1] = \"груша\"  # Замена элемента\n",
        "print(fruits)\n",
        "\n",
        "fruits.append(\"виноград\")  # Добавление элемента в конец\n",
        "print(fruits)\n",
        "\n",
        "fruits.remove(\"киви\")      # Удаление элемента по значению\n",
        "print(fruits)\n",
        "\n",
        "fruits.remove(\"виноград\")\n",
        "fruits.append(\"киви\")\n",
        "print(fruits)\n"
      ],
      "metadata": {
        "id": "zeaEpLg0opAR"
      },
      "execution_count": null,
      "outputs": []
    },
    {
      "cell_type": "markdown",
      "source": [
        "Кортеж (tuple)"
      ],
      "metadata": {
        "id": "VG3v0w2xosDV"
      }
    },
    {
      "cell_type": "code",
      "source": [
        "coordinates = 10, 20, 50, 60\n",
        "print(coordinates)\n",
        "\n",
        "coordinates[1] = 20"
      ],
      "metadata": {
        "id": "ahvSwOCUozCD"
      },
      "execution_count": null,
      "outputs": []
    },
    {
      "cell_type": "markdown",
      "source": [
        "Множество (set)"
      ],
      "metadata": {
        "id": "yiJvMayFpUFJ"
      }
    },
    {
      "cell_type": "code",
      "source": [
        "unique_numbers = {1, 2, 2, 3, 4, 4, 5} # Дубликаты автоматически удалятся\n",
        "print(unique_numbers)\n",
        "\n",
        "unique_numbers.add(6) # Добавление элемента\n",
        "print(unique_numbers)\n",
        "\n",
        "# Проверка принадлежности элемента множеству\n",
        "print(3 in unique_numbers)\n"
      ],
      "metadata": {
        "id": "l2pRQQmdpdkt"
      },
      "execution_count": null,
      "outputs": []
    },
    {
      "cell_type": "code",
      "source": [
        "unique_numbers = {1, 2, 2, 3, 4, 4, 5} # Дубликаты автоматически удалятся\n",
        "print(unique_numbers)\n",
        "\n",
        "unique_numbers.remove(1)\n",
        "print(unique_numbers)"
      ],
      "metadata": {
        "id": "uMMs_LHMJ4OJ"
      },
      "execution_count": null,
      "outputs": []
    },
    {
      "cell_type": "markdown",
      "source": [
        "Словарь (dict)"
      ],
      "metadata": {
        "id": "80wnG5iQpkfH"
      }
    },
    {
      "cell_type": "code",
      "source": [
        "student = {\n",
        "    \"имя\": \"Мария\",\n",
        "    \"возраст\": 16,\n",
        "    \"предмет\": \"информатика\"\n",
        "}\n",
        "print(student)\n",
        "print(student[\"имя\"])      # Получение значения по ключу\n",
        "# print(student[\"рост\"])   # ОШИБКА, если ключа нет\n",
        "\n",
        "student[\"оценка\"] = 5     # Добавление новой пары ключ-значение\n",
        "print(student)\n",
        "\n",
        "student[\"возраст\"] = 17   # Изменение значения по ключу\n",
        "print(student)\n",
        "\n",
        "# Безопасное получение значения (чтобы не было ошибки)\n",
        "print(student.get(\"рост\", \"Ключ не найден\"))\n",
        "\n",
        "# Полезные методы\n",
        "print(student.keys())   # Все ключи\n",
        "print(student.values()) # Все значения\n",
        "\n"
      ],
      "metadata": {
        "id": "vZ1mTllhpnPY"
      },
      "execution_count": null,
      "outputs": []
    },
    {
      "cell_type": "code",
      "source": [
        "my_dict = {\n",
        "    'a': [1, 2, 3],\n",
        "    'b': [4, 5],\n",
        "    'c': [6]\n",
        "}\n",
        "\n",
        "for key, values in my_dict.items():  # перебираем ключ и связанный список значений\n",
        "    for value in values:              # перебираем каждое значение в списке\n",
        "        print(key, value)"
      ],
      "metadata": {
        "id": "0aaJk03FqWSA"
      },
      "execution_count": null,
      "outputs": []
    },
    {
      "cell_type": "markdown",
      "source": [
        "Условные операторы"
      ],
      "metadata": {
        "id": "Xst3LAlDrDZU"
      }
    },
    {
      "cell_type": "code",
      "source": [
        "temperature = 25\n",
        "\n",
        "if temperature > 30:\n",
        "    print(\"Жарко! Наденьте шорты.\")\n",
        "elif temperature > 20:\n",
        "    print(\"Тепло. Отличная погода.\")\n",
        "elif temperature > 10:\n",
        "    print(\"Прохладно. Наденьте куртку.\")\n",
        "else:\n",
        "    print(\"Холодно! Оденьтесь теплее.\")\n",
        "\n"
      ],
      "metadata": {
        "id": "FD1SdD7QrFzN"
      },
      "execution_count": null,
      "outputs": []
    },
    {
      "cell_type": "markdown",
      "source": [
        "Проверка логического выражения\n"
      ],
      "metadata": {
        "id": "U7NVfWvIrJZ4"
      }
    },
    {
      "cell_type": "code",
      "source": [
        "age = 19\n",
        "has_ticket = True\n",
        "\n",
        "if age >= 18 and has_ticket:\n",
        "    print(\"Проход на концерт разрешен.\")\n",
        "else:\n",
        "    print(\"Проход запрещен.\")\n"
      ],
      "metadata": {
        "id": "oZZ6aafCrM4Q"
      },
      "execution_count": null,
      "outputs": []
    },
    {
      "cell_type": "markdown",
      "source": [
        "Проверка вхождения элемента в коллекцию"
      ],
      "metadata": {
        "id": "4bhx6h8OrRGV"
      }
    },
    {
      "cell_type": "code",
      "source": [
        "favorite_fruits = [\"яблоко\", \"банан\", \"апельсин\"]\n",
        "current_fruit = \"киви\"\n",
        "\n",
        "if current_fruit in favorite_fruits:\n",
        "    print(\"Это мой любимый фрукт!\")\n",
        "else:\n",
        "    print(\"Такой фрукт мне не очень нравится.\")\n"
      ],
      "metadata": {
        "id": "2JjN-K6WrTdS"
      },
      "execution_count": null,
      "outputs": []
    },
    {
      "cell_type": "markdown",
      "source": [
        "Вложенные условия"
      ],
      "metadata": {
        "id": "Toi_KjugrYPr"
      }
    },
    {
      "cell_type": "code",
      "source": [
        "num = 10\n",
        "if num >= 0:\n",
        "    if num == 0:\n",
        "        print(\"Число равно нулю\")\n",
        "    else:\n",
        "        print(\"Положительное число\")\n",
        "else:\n",
        "    print(\"Отрицательное число\")\n"
      ],
      "metadata": {
        "id": "2eJvyDN-razt"
      },
      "execution_count": null,
      "outputs": []
    },
    {
      "cell_type": "markdown",
      "source": [
        "Цикл for"
      ],
      "metadata": {
        "id": "7r7bD-zardwk"
      }
    },
    {
      "cell_type": "code",
      "source": [
        "fruits = [\"яблоко\", \"банан\", \"вишня\"]\n",
        "for fruit in fruits:\n",
        "    print(f\"Я съел {fruit}\")"
      ],
      "metadata": {
        "id": "Cb-GcS_5rrMC"
      },
      "execution_count": null,
      "outputs": []
    },
    {
      "cell_type": "code",
      "source": [
        "for i in range(5):\n",
        "    print(f\"Итерация номер {i}\")"
      ],
      "metadata": {
        "id": "Yj2etV7crtEU"
      },
      "execution_count": null,
      "outputs": []
    },
    {
      "cell_type": "code",
      "source": [
        "word = \"Python\"\n",
        "for letter in word:\n",
        "    print(letter)"
      ],
      "metadata": {
        "id": "8mQYi0hfrvO-"
      },
      "execution_count": null,
      "outputs": []
    },
    {
      "cell_type": "code",
      "source": [
        "for i in range(10):\n",
        "    if i % 2 == 0:\n",
        "        continue  # пропускаем чётные числа\n",
        "    print(i)"
      ],
      "metadata": {
        "id": "4H23vawMslNc"
      },
      "execution_count": null,
      "outputs": []
    },
    {
      "cell_type": "markdown",
      "source": [
        "Цикл while"
      ],
      "metadata": {
        "id": "UfIQ9XNer3MO"
      }
    },
    {
      "cell_type": "code",
      "source": [
        "counter = 5\n",
        "while counter > 0:\n",
        "    print(f\"Осталось секунд: {counter}\")\n",
        "    counter -= 1  # Уменьшаем счетчик на 1 каждую итерацию\n",
        "print(\"Старт!\")\n"
      ],
      "metadata": {
        "id": "X7fU5330r5pX"
      },
      "execution_count": null,
      "outputs": []
    },
    {
      "cell_type": "code",
      "source": [
        "total = 0\n",
        "while True: # Бесконечный цикл\n",
        "    number = int(input(\"Введите число (0 для выхода): \"))\n",
        "    if number == 0:\n",
        "        break  # Выход из цикла\n",
        "    total += number\n",
        "print(f\"Сумма введенных чисел: {total}\")\n"
      ],
      "metadata": {
        "id": "arAyEOu-sUWX"
      },
      "execution_count": null,
      "outputs": []
    }
  ]
}